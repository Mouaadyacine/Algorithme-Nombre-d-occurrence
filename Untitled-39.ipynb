{
 "cells": [
  {
   "cell_type": "code",
   "execution_count": null,
   "metadata": {},
   "outputs": [],
   "source": [
    "variable \n",
    "  i,s,n:entier \n",
    "tableau\n",
    "  t(50):entier \n",
    "debut \n",
    "pour i recoit 0 a 49 pas 1 faire \n",
    "ecrire(\"donner le nombre numero\",i+1)\n",
    "lire(t(i))\n",
    "fin pour \n",
    "ecrire(\"entrer un entier\")\n",
    "lire(n)\n",
    "pour i recoit 0 a 49 pas 1 faire \n",
    " si n=t(i) alors \n",
    "s=s+1 \n",
    " fin si \n",
    "fin pour \n",
    "ecrire(\"le nombre d'occurrence:\",s)\n",
    "fin "
   ]
  }
 ],
 "metadata": {
  "language_info": {
   "name": "python"
  }
 },
 "nbformat": 4,
 "nbformat_minor": 2
}
